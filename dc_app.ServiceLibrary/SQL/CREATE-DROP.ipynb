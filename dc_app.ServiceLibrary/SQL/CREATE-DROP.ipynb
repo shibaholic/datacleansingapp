{
    "metadata": {
        "kernelspec": {
            "name": "SQL",
            "display_name": "SQL",
            "language": "sql"
        },
        "language_info": {
            "name": "sql",
            "version": ""
        }
    },
    "nbformat_minor": 2,
    "nbformat": 4,
    "cells": [
        {
            "cell_type": "markdown",
            "source": [
                "Drop <span style=\"color: var(--vscode-foreground);\">Tables</span>"
            ],
            "metadata": {
                "azdata_cell_guid": "8ebd9960-11d5-472b-9a71-a5b522e33982"
            },
            "attachments": {}
        },
        {
            "cell_type": "code",
            "source": [
                "--- DROP TABLES ---\r\n",
                "--- Spreadsheet Metadata ---\r\n",
                "DROP TABLE UserHasSpreadsheet;\r\n",
                "DROP TABLE ColumnConfig;\r\n",
                "DROP TABLE SpreadsheetConfig;\r\n",
                "--- UserAccount ---\r\n",
                "DROP TABLE UserAccount;\r\n",
                "--- UploadStatus ---\r\n",
                "DROP TABLE UploadStatus;\r\n",
                "--- DemoTable ---\r\n",
                "DROP TABLE demo_table;"
            ],
            "metadata": {
                "azdata_cell_guid": "586998df-ecf8-4739-91a5-14dadb3cc64c",
                "language": "sql",
                "tags": []
            },
            "outputs": [
                {
                    "output_type": "display_data",
                    "data": {
                        "text/html": "Commands completed successfully."
                    },
                    "metadata": {}
                },
                {
                    "output_type": "display_data",
                    "data": {
                        "text/html": "Total execution time: 00:00:00.145"
                    },
                    "metadata": {}
                }
            ],
            "execution_count": 11
        },
        {
            "cell_type": "markdown",
            "source": [
                "Drop Dynamic Tables"
            ],
            "metadata": {
                "azdata_cell_guid": "81b3b600-634c-434c-a1b3-80502452635d"
            },
            "attachments": {}
        },
        {
            "cell_type": "code",
            "source": [
                "--- DROP DYNAMIC ---\r\n",
                "DECLARE @cmd varchar(4000)\r\n",
                "DECLARE cmds CURSOR FOR\r\n",
                "SELECT 'drop table [' + Table_Name + ']'\r\n",
                "FROM INFORMATION_SCHEMA.TABLES\r\n",
                "WHERE Table_Name LIKE 'dynamic%'\r\n",
                "\r\n",
                "OPEN cmds\r\n",
                "WHILE 1 = 1\r\n",
                "BEGIN\r\n",
                "    FETCH cmds INTO @cmd\r\n",
                "    IF @@fetch_status != 0 BREAK\r\n",
                "    EXEC(@cmd)\r\n",
                "END\r\n",
                "CLOSE cmds;\r\n",
                "DEALLOCATE cmds"
            ],
            "metadata": {
                "azdata_cell_guid": "74413756-c36c-46f4-becb-34ef95dc89c9",
                "language": "sql",
                "tags": []
            },
            "outputs": [
                {
                    "output_type": "display_data",
                    "data": {
                        "text/html": "Commands completed successfully."
                    },
                    "metadata": {}
                },
                {
                    "output_type": "display_data",
                    "data": {
                        "text/html": "Total execution time: 00:00:00.093"
                    },
                    "metadata": {}
                }
            ],
            "execution_count": 12
        },
        {
            "cell_type": "markdown",
            "source": [
                "Create Tables"
            ],
            "metadata": {
                "azdata_cell_guid": "87745c22-f763-47c7-8988-f24ef6f42d30"
            },
            "attachments": {}
        },
        {
            "cell_type": "code",
            "source": [
                "--- CREATE TABLES ---\r\n",
                "--- UserAccount ---\r\n",
                "\r\n",
                "CREATE TABLE UserAccount (\r\n",
                "\tid UNIQUEIDENTIFIER NOT NULL,\r\n",
                "\tusername NVARCHAR(255) NOT NULL,\r\n",
                "\temail NVARCHAR(255) NULL,\r\n",
                "\temail_confirmed BIT NOT NULL,\r\n",
                "\tpassword_hash NVARCHAR(MAX) NULL,\r\n",
                "\tPRIMARY KEY(id)\r\n",
                ");\r\n",
                "\r\n",
                "--- Spreadsheet Config --- \r\n",
                "\r\n",
                "CREATE TABLE SpreadsheetConfig (\r\n",
                "\tid INT NOT NULL IDENTITY PRIMARY KEY,\r\n",
                "\tname NVARCHAR(64) NOT NULL, \r\n",
                "\turl_id VARCHAR(11) NOT NULL, \r\n",
                "\tcreation_date DATE NOT NULL, \r\n",
                "\ttype_spreadsheet NVARCHAR(64) NOT NULL,\r\n",
                "\tdynamic_table_name NVARCHAR(64) NULL,\r\n",
                "\ttotal INT NULL,\r\n",
                ");\r\n",
                "\r\n",
                "CREATE TABLE ColumnConfig (\r\n",
                "\tspr_id INT NOT NULL,\r\n",
                "\tcol_id INT NOT NULL,\r\n",
                "\tcol_order INT NOT NULL,\r\n",
                "\tcol_name_web NVARCHAR(64) NOT NULL,\r\n",
                "\tcol_type NVARCHAR(64) NOT NULL,\r\n",
                "\tPRIMARY KEY(spr_id, col_id),\r\n",
                "\tFOREIGN KEY (spr_id) REFERENCES SpreadsheetConfig(id)\r\n",
                ");\r\n",
                "\r\n",
                "CREATE TABLE UserHasSpreadsheet (\r\n",
                "\tusr_id UNIQUEIDENTIFIER NOT NULL,\r\n",
                "\tspr_id INT NOT NULL,\r\n",
                "\tpermission NVARCHAR(64) NULL,\r\n",
                "\tPRIMARY KEY(usr_id, spr_id),\r\n",
                "\tFOREIGN KEY(usr_id) REFERENCES UserAccount(id),\r\n",
                "\tFOREIGN KEY(spr_id) REFERENCES SpreadsheetConfig(id)\r\n",
                ");\r\n",
                "\r\n",
                "--- UploadStatus ---\r\n",
                "\r\n",
                "CREATE TABLE UploadStatus (\r\n",
                "\tuploadId VARCHAR(11) NOT NULL,\r\n",
                "\tstatus NVARCHAR(20) NOT NULL,\r\n",
                "\tvalue_percent INT NULL DEFAULT 0,\r\n",
                "\tlocation NVARCHAR(100) NULL,\r\n",
                "\tPRIMARY KEY(uploadId)\r\n",
                ")"
            ],
            "metadata": {
                "azdata_cell_guid": "68166f55-cdef-4c30-874d-3273133dee37",
                "language": "sql",
                "tags": []
            },
            "outputs": [
                {
                    "output_type": "display_data",
                    "data": {
                        "text/html": "Commands completed successfully."
                    },
                    "metadata": {}
                },
                {
                    "output_type": "display_data",
                    "data": {
                        "text/html": "Total execution time: 00:00:00.109"
                    },
                    "metadata": {}
                }
            ],
            "execution_count": 13
        },
        {
            "cell_type": "markdown",
            "source": [
                "Creation of dynamic demo\\_table"
            ],
            "metadata": {
                "language": "sql",
                "azdata_cell_guid": "1d53c690-b8a0-42c9-8a32-a5d16c47c234"
            },
            "attachments": {}
        },
        {
            "cell_type": "code",
            "source": [
                "INSERT INTO SpreadsheetConfig VALUES ('demo spreadsheet', '12345678901', GETDATE(), 'demo', 'demo_table', 16);\r\n",
                "\r\n",
                "INSERT INTO ColumnConfig VALUES \r\n",
                "(1, 1, 1, 'index', 'Text'),\r\n",
                "(1, 2, 2, 'name', 'Text'),\r\n",
                "(1, 3, 3, 'ssn_old', 'Text'),\r\n",
                "(1, 4, 4, 'ssn_new', 'Text'),\r\n",
                "(1, 5, 5, 'job', 'Text'),\r\n",
                "(1, 6, 6, 'description', 'Text');"
            ],
            "metadata": {
                "language": "sql",
                "azdata_cell_guid": "8aaa1149-5a51-47d0-b1b5-acb58f2a385b",
                "tags": []
            },
            "outputs": [
                {
                    "output_type": "display_data",
                    "data": {
                        "text/html": "(1 row affected)"
                    },
                    "metadata": {}
                },
                {
                    "output_type": "display_data",
                    "data": {
                        "text/html": "(6 rows affected)"
                    },
                    "metadata": {}
                },
                {
                    "output_type": "display_data",
                    "data": {
                        "text/html": "Total execution time: 00:00:00.072"
                    },
                    "metadata": {}
                }
            ],
            "execution_count": 14
        },
        {
            "cell_type": "code",
            "source": [
                "CREATE TABLE demo_table \r\n",
                "(\r\n",
                "    ID_P INT IDENTITY NOT NULL,\r\n",
                "    col1\tNVARCHAR(64),\r\n",
                "    col2\tNVARCHAR(64),\r\n",
                "    col3\tNVARCHAR(64),\r\n",
                "    col4\tNVARCHAR(64),\r\n",
                "    col5\tNVARCHAR(64),\r\n",
                "    col6\tNVARCHAR(MAX),\r\n",
                "    PRIMARY KEY(ID_P)\r\n",
                ");\r\n",
                "\r\n",
                "INSERT INTO demo_table VALUES ('0', 'Ryan Gallagher', '262-16-8118', '891-47-9339', 'Museum education officer', 'Behind agreement structure item several able knowledge return.');\r\n",
                "INSERT INTO demo_table VALUES ('1', 'Tony Valenzuela', '032-03-0417', '667-70-0151', 'Museum/gallery curator', 'Why rise month shake voice need generation quality.');\r\n",
                "INSERT INTO demo_table VALUES ('2', 'Tiffany House', '427-72-1639', '262-16-8118', 'Community arts worker', 'Time wind may whose medical travel couple exist wind material.');\r\n",
                "INSERT INTO demo_table VALUES ('3', 'Jennifer Castaneda', '013-79-0239', '427-72-1639', 'Medical technical officer', 'Third simply scene beat professional blue clear style have run light final summer.');\r\n",
                "INSERT INTO demo_table VALUES ('4', 'Laura Holland', '173-65-3719', '013-99-3269', 'Solicitor, Scotland', 'Discussion message weight official learn especially nature whatever accept situation star though scientist.');\r\n",
                "INSERT INTO demo_table VALUES ('5', 'Kelly Hoffman', '437-08-7883', '891-47-9339', 'Surveyor, building', 'Wait including spend increase ability music skill former.');\r\n",
                "INSERT INTO demo_table VALUES ('6', 'Regina Reid', '564-75-2962', '882-12-9029', 'Freight forwarder', 'Success pull bar admit address sense.');\r\n",
                "INSERT INTO demo_table VALUES ('7', 'Brian Weber', '748-66-3426', '172-21-4182', 'Secretary, company', 'Prevent possible family reflect market box find gas.');\r\n",
                "INSERT INTO demo_table VALUES ('8', 'Deanna King', '748-66-3426', '621-56-0342', 'Equality and diversity officer', 'However along whether knowledge media interview.');\r\n",
                "INSERT INTO demo_table VALUES ('9', 'Vanessa Mccoy', '161-26-5370', '229-68-0503', 'Nutritional therapist', 'Sound process international scene call deep answer audience baby true fear citizen north.');\r\n",
                "INSERT INTO demo_table VALUES ('10', 'Justin Jefferson', '605-28-9344', '472-22-8338', 'Applications developer', 'Customer between of to option manage visit hope mean admit.');\r\n",
                "INSERT INTO demo_table VALUES ('11', 'Jennifer Campbell', '161-26-5370', '831-73-2215', 'Librarian, academic', 'Defense purpose study usually gas think reach machine world doctor rise.');\r\n",
                "INSERT INTO demo_table VALUES ('12', 'Christopher Bartlett', '219-35-5444', '615-65-4183', 'Mental health nurse', 'Future fact test page west thought career necessary bit always.');\r\n",
                "INSERT INTO demo_table VALUES ('13', 'Sean French', '849-17-5586', '229-68-0503', 'Multimedia specialist', 'Number difference bank entire three north.');\r\n",
                "INSERT INTO demo_table VALUES ('14', 'Judith Ramirez', '806-06-4846', '013-79-0239', 'Chemist, analytical', 'Boy those always dream write inside break cold drop season bill.');\r\n",
                "INSERT INTO demo_table VALUES ('15', 'Jamie Cordova', '838-38-9015', '260-92-7816', 'International aid/development worker', 'Debate fish agree skin understand risk floor.');\r\n",
                ""
            ],
            "metadata": {
                "language": "sql",
                "azdata_cell_guid": "85447cbb-d13b-4b22-88a8-7b9b37d0ee6a"
            },
            "outputs": [
                {
                    "output_type": "display_data",
                    "data": {
                        "text/html": "(1 row affected)"
                    },
                    "metadata": {}
                },
                {
                    "output_type": "display_data",
                    "data": {
                        "text/html": "(1 row affected)"
                    },
                    "metadata": {}
                },
                {
                    "output_type": "display_data",
                    "data": {
                        "text/html": "(1 row affected)"
                    },
                    "metadata": {}
                },
                {
                    "output_type": "display_data",
                    "data": {
                        "text/html": "(1 row affected)"
                    },
                    "metadata": {}
                },
                {
                    "output_type": "display_data",
                    "data": {
                        "text/html": "(1 row affected)"
                    },
                    "metadata": {}
                },
                {
                    "output_type": "display_data",
                    "data": {
                        "text/html": "(1 row affected)"
                    },
                    "metadata": {}
                },
                {
                    "output_type": "display_data",
                    "data": {
                        "text/html": "(1 row affected)"
                    },
                    "metadata": {}
                },
                {
                    "output_type": "display_data",
                    "data": {
                        "text/html": "(1 row affected)"
                    },
                    "metadata": {}
                },
                {
                    "output_type": "display_data",
                    "data": {
                        "text/html": "(1 row affected)"
                    },
                    "metadata": {}
                },
                {
                    "output_type": "display_data",
                    "data": {
                        "text/html": "(1 row affected)"
                    },
                    "metadata": {}
                },
                {
                    "output_type": "display_data",
                    "data": {
                        "text/html": "(1 row affected)"
                    },
                    "metadata": {}
                },
                {
                    "output_type": "display_data",
                    "data": {
                        "text/html": "(1 row affected)"
                    },
                    "metadata": {}
                },
                {
                    "output_type": "display_data",
                    "data": {
                        "text/html": "(1 row affected)"
                    },
                    "metadata": {}
                },
                {
                    "output_type": "display_data",
                    "data": {
                        "text/html": "(1 row affected)"
                    },
                    "metadata": {}
                },
                {
                    "output_type": "display_data",
                    "data": {
                        "text/html": "(1 row affected)"
                    },
                    "metadata": {}
                },
                {
                    "output_type": "display_data",
                    "data": {
                        "text/html": "(1 row affected)"
                    },
                    "metadata": {}
                },
                {
                    "output_type": "display_data",
                    "data": {
                        "text/html": "Total execution time: 00:00:00.181"
                    },
                    "metadata": {}
                }
            ],
            "execution_count": 15
        }
    ]
}